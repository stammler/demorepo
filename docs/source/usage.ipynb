{
 "cells": [
  {
   "cell_type": "markdown",
   "id": "c9769856-03f9-4a72-b956-cee5aa19d321",
   "metadata": {},
   "source": [
    "# Basic Usage"
   ]
  },
  {
   "cell_type": "markdown",
   "id": "a016a377-970e-408f-84db-cce4aa843ddb",
   "metadata": {},
   "source": [
    "This notebook demonstrates the basic usage of the `Calculator` package.\n",
    "\n",
    "The basic arithmetic operations are contained in the `Calculator` class."
   ]
  },
  {
   "cell_type": "code",
   "execution_count": 1,
   "id": "8f1913db-329d-49ce-9a3a-8c83d8083623",
   "metadata": {},
   "outputs": [],
   "source": [
    "from calculator import Calculator"
   ]
  },
  {
   "cell_type": "code",
   "execution_count": 2,
   "id": "4d20a380-f71b-43b5-b47b-f557ef1b2975",
   "metadata": {},
   "outputs": [],
   "source": [
    "calc = Calculator()"
   ]
  },
  {
   "cell_type": "markdown",
   "id": "0dfbd2f7-8c47-4596-a50c-f0ea627584aa",
   "metadata": {},
   "source": [
    "The subsequent sections operate on two numbers $a$ and $b$."
   ]
  },
  {
   "cell_type": "code",
   "execution_count": 3,
   "id": "0d500367-0d56-425d-9939-18e792855f02",
   "metadata": {},
   "outputs": [],
   "source": [
    "a = 5\n",
    "b = 3"
   ]
  },
  {
   "cell_type": "markdown",
   "id": "f77b570c-9c87-4157-b49d-df32eadc1658",
   "metadata": {},
   "source": [
    "## Addition\n",
    "\n",
    "The addition operation add both numbers `a` and `b`\n",
    "\n",
    "$\\Large c = a + b$"
   ]
  },
  {
   "cell_type": "code",
   "execution_count": 4,
   "id": "cd4f1759-e11f-45ef-a82a-96d39fd16976",
   "metadata": {},
   "outputs": [],
   "source": [
    "c = calc.add(a, b)"
   ]
  },
  {
   "cell_type": "code",
   "execution_count": 5,
   "id": "918a9299-d01c-436e-9bce-090a9f2bad9e",
   "metadata": {},
   "outputs": [
    {
     "name": "stdout",
     "output_type": "stream",
     "text": [
      "The result of the addition is 8.\n"
     ]
    }
   ],
   "source": [
    "print(f\"The result of the addition is {c}.\")"
   ]
  },
  {
   "cell_type": "markdown",
   "id": "7332d1e4-7d18-4c5b-82b3-ee7d9bf7961a",
   "metadata": {},
   "source": [
    "## Subtraction\n",
    "\n",
    "The subtraction operation subtracts number $b$ from number $a$\n",
    "\n",
    "$\\Large c = a - b$"
   ]
  },
  {
   "cell_type": "code",
   "execution_count": 6,
   "id": "7bec00b6-043f-4179-9685-db7559f38756",
   "metadata": {},
   "outputs": [],
   "source": [
    "c = calc.subtract(a, b)"
   ]
  },
  {
   "cell_type": "code",
   "execution_count": 7,
   "id": "598fe637-e70c-488f-9f18-f7d506857de5",
   "metadata": {},
   "outputs": [
    {
     "name": "stdout",
     "output_type": "stream",
     "text": [
      "The result of the subtraction is 2.\n"
     ]
    }
   ],
   "source": [
    "print(f\"The result of the subtraction is {c}.\")"
   ]
  },
  {
   "cell_type": "markdown",
   "id": "b6832bdb-b65b-4dec-ad12-078c3db82a35",
   "metadata": {},
   "source": [
    "## Multiplication\n",
    "\n",
    "The multiplication operation multiplies the fatctors $a$ and $b$\n",
    "\n",
    "$\\Large c = a \\cdot b$"
   ]
  },
  {
   "cell_type": "code",
   "execution_count": 8,
   "id": "7b19a2d4-750f-4749-8da4-c6551c837df2",
   "metadata": {},
   "outputs": [],
   "source": [
    "c = calc.multiply(a, b)"
   ]
  },
  {
   "cell_type": "code",
   "execution_count": 9,
   "id": "99129f54-6078-4138-9f3f-0c67f7bd9a92",
   "metadata": {},
   "outputs": [
    {
     "name": "stdout",
     "output_type": "stream",
     "text": [
      "The result of the multiplication is 15.\n"
     ]
    }
   ],
   "source": [
    "print(f\"The result of the multiplication is {c}.\")"
   ]
  },
  {
   "cell_type": "markdown",
   "id": "614b615c-f1c6-4378-9876-9e71749c8981",
   "metadata": {},
   "source": [
    "## Division\n",
    "\n",
    "The division operation divides $a$ by $b$\n",
    "\n",
    "$\\Large c = \\frac{a}{b}$"
   ]
  },
  {
   "cell_type": "code",
   "execution_count": 10,
   "id": "540a3066-a64a-4a32-9d5a-520f0afac7d7",
   "metadata": {},
   "outputs": [],
   "source": [
    "c = calc.divide(a, b)"
   ]
  },
  {
   "cell_type": "code",
   "execution_count": 11,
   "id": "d0bfc085-e1bb-4f9c-b4bc-d32de666c300",
   "metadata": {},
   "outputs": [
    {
     "name": "stdout",
     "output_type": "stream",
     "text": [
      "The result of the division is approximately 1.667.\n"
     ]
    }
   ],
   "source": [
    "print(f\"The result of the division is approximately {c:.3f}.\")"
   ]
  },
  {
   "cell_type": "markdown",
   "id": "83d483fe-54a8-4c2d-87f6-d27b37c4cf61",
   "metadata": {},
   "source": [
    "**Note:** You must not divide by $0$."
   ]
  },
  {
   "cell_type": "code",
   "execution_count": 12,
   "id": "d8e0f9be-3eac-4b4a-95b0-d15e908b791e",
   "metadata": {},
   "outputs": [
    {
     "ename": "ValueError",
     "evalue": "Divisor must not be zero!",
     "output_type": "error",
     "traceback": [
      "\u001b[0;31m---------------------------------------------------------------------------\u001b[0m",
      "\u001b[0;31mValueError\u001b[0m                                Traceback (most recent call last)",
      "Cell \u001b[0;32mIn[12], line 1\u001b[0m\n\u001b[0;32m----> 1\u001b[0m c \u001b[38;5;241m=\u001b[39m calc\u001b[38;5;241m.\u001b[39mdivide(a, \u001b[38;5;241m0\u001b[39m)\n",
      "File \u001b[0;32m/mnt/c/Users/sebas/physics/repos/sphinx_demo/calculator/calculator.py:100\u001b[0m, in \u001b[0;36mCalculator.divide\u001b[0;34m(self, a, b)\u001b[0m\n\u001b[1;32m     98\u001b[0m     \u001b[38;5;28;01mraise\u001b[39;00m \u001b[38;5;167;01mTypeError\u001b[39;00m(\u001b[38;5;124m\"\u001b[39m\u001b[38;5;124mInputs have to be numbers!\u001b[39m\u001b[38;5;124m\"\u001b[39m)\n\u001b[1;32m     99\u001b[0m \u001b[38;5;28;01mif\u001b[39;00m b \u001b[38;5;241m==\u001b[39m \u001b[38;5;241m0\u001b[39m:\n\u001b[0;32m--> 100\u001b[0m     \u001b[38;5;28;01mraise\u001b[39;00m \u001b[38;5;167;01mValueError\u001b[39;00m(\u001b[38;5;124m\"\u001b[39m\u001b[38;5;124mDivisor must not be zero!\u001b[39m\u001b[38;5;124m\"\u001b[39m)\n\u001b[1;32m    101\u001b[0m \u001b[38;5;28;01mreturn\u001b[39;00m a \u001b[38;5;241m/\u001b[39m b\n",
      "\u001b[0;31mValueError\u001b[0m: Divisor must not be zero!"
     ]
    }
   ],
   "source": [
    "c = calc.divide(a, 0)"
   ]
  }
 ],
 "metadata": {
  "kernelspec": {
   "display_name": "Python 3 (ipykernel)",
   "language": "python",
   "name": "python3"
  },
  "language_info": {
   "codemirror_mode": {
    "name": "ipython",
    "version": 3
   },
   "file_extension": ".py",
   "mimetype": "text/x-python",
   "name": "python",
   "nbconvert_exporter": "python",
   "pygments_lexer": "ipython3",
   "version": "3.11.5"
  }
 },
 "nbformat": 4,
 "nbformat_minor": 5
}
